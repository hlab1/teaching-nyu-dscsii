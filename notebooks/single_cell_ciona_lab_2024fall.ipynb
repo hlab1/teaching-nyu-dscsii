{
 "cells": [
  {
   "cell_type": "markdown",
   "metadata": {},
   "source": [
    "## Brief introduction to R"
   ]
  },
  {
   "cell_type": "markdown",
   "metadata": {},
   "source": [
    "\n",
    "\n",
    "### Interacting with the R Jupyter notebook\n",
    "\n",
    "There are two types of Cells.\n",
    "* \"Markdown\" cells allow you to write text like this one.\n",
    "* The two cells below are \"Code\" cells. Type R commands into the cell and press shift-enter to compute the result."
   ]
  },
  {
   "cell_type": "code",
   "execution_count": null,
   "metadata": {},
   "outputs": [],
   "source": [
    "2*3"
   ]
  },
  {
   "cell_type": "code",
   "execution_count": null,
   "metadata": {
    "scrolled": true
   },
   "outputs": [],
   "source": [
    "10-3"
   ]
  },
  {
   "cell_type": "markdown",
   "metadata": {},
   "source": [
    "The currently active Cell is indicated by a blue border and blue left margin. "
   ]
  },
  {
   "cell_type": "markdown",
   "metadata": {},
   "source": [
    "### R variables\n",
    "\n",
    "A variable has a name and a value. For example, in the cell below we are assigning the value 2\\*3 to the variable x. Press shift-enter to evaluate it.  Note that this command does not print the result on the screen (why?)."
   ]
  },
  {
   "cell_type": "code",
   "execution_count": null,
   "metadata": {},
   "outputs": [],
   "source": [
    "x = 2*3"
   ]
  },
  {
   "cell_type": "markdown",
   "metadata": {},
   "source": [
    "To view the content of the variable *x*, just type its name and press shift-enter."
   ]
  },
  {
   "cell_type": "code",
   "execution_count": null,
   "metadata": {},
   "outputs": [],
   "source": [
    "x"
   ]
  },
  {
   "cell_type": "markdown",
   "metadata": {},
   "source": [
    "All variables in R are called *objects*. There are multiple types of objects in R, including scalars, vectors, matrices, arrays, data frames, tables, and lists."
   ]
  },
  {
   "cell_type": "markdown",
   "metadata": {},
   "source": [
    "A *vector* is a collection of *elements* of the same type.\n",
    "We can use the `c()` function to create a vector with the name *myvector*."
   ]
  },
  {
   "cell_type": "code",
   "execution_count": null,
   "metadata": {},
   "outputs": [],
   "source": [
    "myvector = c(8,6,9,10,5)"
   ]
  },
  {
   "cell_type": "markdown",
   "metadata": {},
   "source": [
    "Type the name of this vector to see its value."
   ]
  },
  {
   "cell_type": "code",
   "execution_count": null,
   "metadata": {},
   "outputs": [],
   "source": [
    "myvector"
   ]
  },
  {
   "cell_type": "markdown",
   "metadata": {},
   "source": [
    "We can extract elements in the vector by its *index*. Here we are getting the first (position 1) and the fourth (position 4) element in the vector."
   ]
  },
  {
   "cell_type": "code",
   "execution_count": null,
   "metadata": {},
   "outputs": [],
   "source": [
    "myvector[1]"
   ]
  },
  {
   "cell_type": "code",
   "execution_count": null,
   "metadata": {},
   "outputs": [],
   "source": [
    "myvector[4]"
   ]
  },
  {
   "cell_type": "markdown",
   "metadata": {},
   "source": [
    "A *list* can contain elements of different types, for example, numbers or strings, or even vector. We can use the *list()* function to create a list. Values in the list can have names."
   ]
  },
  {
   "cell_type": "code",
   "execution_count": null,
   "metadata": {},
   "outputs": [],
   "source": [
    "mylist = list(\"USA\"=\"Washington DC\",\"Canada\"=\"Ottawa\",myvector)"
   ]
  },
  {
   "cell_type": "markdown",
   "metadata": {},
   "source": [
    "To see the content of *mylist*, just type its name."
   ]
  },
  {
   "cell_type": "code",
   "execution_count": null,
   "metadata": {},
   "outputs": [],
   "source": [
    "mylist"
   ]
  },
  {
   "cell_type": "markdown",
   "metadata": {},
   "source": [
    "We can get individual elements of the list by the name or the index using *double square brackets*."
   ]
  },
  {
   "cell_type": "code",
   "execution_count": null,
   "metadata": {},
   "outputs": [],
   "source": [
    "mylist[[\"Canada\"]]"
   ]
  },
  {
   "cell_type": "code",
   "execution_count": null,
   "metadata": {},
   "outputs": [],
   "source": [
    "mylist[[3]]"
   ]
  },
  {
   "cell_type": "markdown",
   "metadata": {},
   "source": [
    "The `attributes` function gets all the names in the list."
   ]
  },
  {
   "cell_type": "markdown",
   "metadata": {},
   "source": [
    "### R functions\n",
    "A *function* in R performs some calculations on input variables called *arguments* that are inside a round bracket. For example the `log10()` function calculates the base 10 log of the number passed in the round bracket."
   ]
  },
  {
   "cell_type": "code",
   "execution_count": null,
   "metadata": {},
   "outputs": [],
   "source": [
    "log10(100)"
   ]
  },
  {
   "cell_type": "markdown",
   "metadata": {},
   "source": [
    "The `mean` function calculates the mean of a vector."
   ]
  },
  {
   "cell_type": "code",
   "execution_count": null,
   "metadata": {},
   "outputs": [],
   "source": [
    "mean(myvector)"
   ]
  },
  {
   "cell_type": "markdown",
   "metadata": {},
   "source": [
    "The `length` function gives the number of elements in a vector."
   ]
  },
  {
   "cell_type": "code",
   "execution_count": null,
   "metadata": {},
   "outputs": [],
   "source": [
    "length(myvector)"
   ]
  },
  {
   "cell_type": "markdown",
   "metadata": {},
   "source": [
    "The *table* function takes a vector, finds all the possible unique values in the vector, and calculates the number of times that each value appears in the vector."
   ]
  },
  {
   "cell_type": "code",
   "execution_count": null,
   "metadata": {},
   "outputs": [],
   "source": [
    "class_majors = c(\"Psychology\",\"Public Health\",\"Biology\",\"Biology\",\"Computer Science\",\"Biology\")\n",
    "table(class_majors)"
   ]
  },
  {
   "cell_type": "markdown",
   "metadata": {},
   "source": [
    "Functions can take multiple arguments. The *log(x,y)* function takes the base *y* log of *x*."
   ]
  },
  {
   "cell_type": "code",
   "execution_count": null,
   "metadata": {},
   "outputs": [],
   "source": [
    "log(16,2)"
   ]
  },
  {
   "cell_type": "code",
   "execution_count": null,
   "metadata": {},
   "outputs": [],
   "source": [
    "log(27,3)"
   ]
  },
  {
   "cell_type": "markdown",
   "metadata": {},
   "source": [
    "### Getting help on functions\n",
    "A lot of functions that come with R or R packages provides *inline help*. This allows you to see how to call the functions and what the functions do.\n",
    "\n",
    "Usually you can just type ? before the function name.\n",
    "\n",
    "Try getting help for the `log` function."
   ]
  },
  {
   "cell_type": "code",
   "execution_count": null,
   "metadata": {},
   "outputs": [],
   "source": [
    "?log"
   ]
  },
  {
   "cell_type": "markdown",
   "metadata": {},
   "source": [
    "And for the `mean` function."
   ]
  },
  {
   "cell_type": "code",
   "execution_count": null,
   "metadata": {},
   "outputs": [],
   "source": [
    "?mean"
   ]
  },
  {
   "cell_type": "markdown",
   "metadata": {},
   "source": [
    "## Single cell Ciona dataset - spatial dynamics"
   ]
  },
  {
   "cell_type": "markdown",
   "metadata": {},
   "source": [
    "### Loading the R packages and the spatial dataset"
   ]
  },
  {
   "cell_type": "markdown",
   "metadata": {},
   "source": [
    "Many people have written functions for doing analysis in R. The functions are put in R *packages* and *libraries* that must be installed or loaded so the functions can be used.\n",
    "\n",
    "We use the `library` function here to load the `Seurat` package that provides many functions to analyze single-cell RNA-seq data, and the `RColorBrewer` package that tells R what colors we would use.  The `source` function loads the convenient functions that we use in this lab."
   ]
  },
  {
   "cell_type": "code",
   "execution_count": null,
   "metadata": {},
   "outputs": [],
   "source": [
    "library(Seurat)\n",
    "library(RColorBrewer)\n",
    "source('../src/functions.R')"
   ]
  },
  {
   "cell_type": "markdown",
   "metadata": {},
   "source": [
    "We can now load the `hpf20` object from the R file *spatial.Robj*, which contains the analyzed information about the transcriptomes of cells collected at hpf20. Then load the *temporal.RObj* file that contains the trajectories of all the cell types."
   ]
  },
  {
   "cell_type": "code",
   "execution_count": null,
   "metadata": {},
   "outputs": [],
   "source": [
    "load('../data/external/spatial.Robj')\n",
    "load('../data/external/temporal.Robj')"
   ]
  },
  {
   "cell_type": "markdown",
   "metadata": {},
   "source": [
    "After loading, you can call the `ls` function to check what variables are currently in the memory."
   ]
  },
  {
   "cell_type": "code",
   "execution_count": null,
   "metadata": {},
   "outputs": [],
   "source": [
    "ls()"
   ]
  },
  {
   "cell_type": "markdown",
   "metadata": {},
   "source": [
    "## Reading the marker genes"
   ]
  },
  {
   "cell_type": "markdown",
   "metadata": {},
   "source": [
    "We have a few text files that specify the differential expression of the marker genes in each cell type. Here we read these files into R and filter to keep the ones that show the strongest differential expression"
   ]
  },
  {
   "cell_type": "code",
   "execution_count": null,
   "metadata": {},
   "outputs": [],
   "source": [
    "heartGene = rownames(subset(read.table(\"../data/external/panHP_20.markers.txt\"), power>0.5 & avg_diff>1))\n",
    "asmGene = rownames(subset(read.table(\"../data/external/ASM_20.markers.txt\"), power>0.5 & avg_diff>1))\n",
    "shpSpecific = rownames(subset(read.table(\"../data/external/SHPspecific_20.markers.txt\"),power>0.5&avg_diff>1))\n",
    "fhpSpecific = rownames(subset(read.table(\"../data/external/FHPspecific_20.markers.txt\"),power>0.5&avg_diff>1))    "
   ]
  },
  {
   "cell_type": "markdown",
   "metadata": {},
   "source": [
    "**Exercise**: How many genes are in each of the vectors *heartGene*, *asmGene*, *shpSpecific* and *fhpSpecific*?  Try to calculate this in the cell below."
   ]
  },
  {
   "cell_type": "code",
   "execution_count": null,
   "metadata": {},
   "outputs": [],
   "source": []
  },
  {
   "cell_type": "markdown",
   "metadata": {},
   "source": [
    "For the purpose of this lab, we will use up to 15 marker genes for each cell type.  We will also define a *AllGene* vector that holds all the (subset of) marker genes."
   ]
  },
  {
   "cell_type": "code",
   "execution_count": null,
   "metadata": {},
   "outputs": [],
   "source": [
    "ASM = asmGene[1:15]\n",
    "Heart = heartGene[1:15]\n",
    "FHP_Specific = fhpSpecific[1:15]\n",
    "SHP_Specific = shpSpecific\n",
    "AllGene = c(heartGene[1:15], fhpSpecific[1:15], shpSpecific,asmGene[1:15])"
   ]
  },
  {
   "cell_type": "markdown",
   "metadata": {},
   "source": [
    "### Getting information from the hpf20 object"
   ]
  },
  {
   "cell_type": "code",
   "execution_count": null,
   "metadata": {},
   "outputs": [],
   "source": [
    "hpf20"
   ]
  },
  {
   "cell_type": "markdown",
   "metadata": {},
   "source": [
    "The *hpf20* object contains many datasets related to the analysis of hpf20 dataset.  We can get the raw sequencing read counts for each gene in each cell in the *raw.data* variable."
   ]
  },
  {
   "cell_type": "code",
   "execution_count": null,
   "metadata": {},
   "outputs": [],
   "source": [
    "hpf20@raw.data"
   ]
  },
  {
   "cell_type": "markdown",
   "metadata": {},
   "source": [
    "### Plotting: tSNE plots, violin plots and heatmaps"
   ]
  },
  {
   "cell_type": "markdown",
   "metadata": {},
   "source": [
    "The *hpf20* object contains information about a pre-computed tSNE plot.  We can use the `TSNEPlot` function to draw it "
   ]
  },
  {
   "cell_type": "code",
   "execution_count": null,
   "metadata": {},
   "outputs": [],
   "source": [
    "TSNEPlot(hpf20)"
   ]
  },
  {
   "cell_type": "markdown",
   "metadata": {},
   "source": [
    "The `TSNEPlot` function can take many arguments that allow customizing the tSNE plot."
   ]
  },
  {
   "cell_type": "code",
   "execution_count": null,
   "metadata": {},
   "outputs": [],
   "source": [
    "?TSNEPlot"
   ]
  },
  {
   "cell_type": "markdown",
   "metadata": {},
   "source": [
    "We can add the cell identity labels and change the colors of the inferred cell identity."
   ]
  },
  {
   "cell_type": "code",
   "execution_count": null,
   "metadata": {},
   "outputs": [],
   "source": [
    "TSNEPlot(hpf20,do.label=TRUE,colors.use = c(\"red\",\"orange\",\"lightblue\",\"blue\"),pt.size = 1.5)"
   ]
  },
  {
   "cell_type": "markdown",
   "metadata": {},
   "source": [
    "Using the `FetchData` function, we can take a look at the identity and the transformed dimsion of each cell."
   ]
  },
  {
   "cell_type": "code",
   "execution_count": null,
   "metadata": {},
   "outputs": [],
   "source": [
    "FetchData(hpf20,c(\"ident\",\"tSNE_1\",\"tSNE_2\"))"
   ]
  },
  {
   "cell_type": "markdown",
   "metadata": {},
   "source": [
    "`FetchData` can also get us the expression levels of EBF genes (ASM marker) in each cell?"
   ]
  },
  {
   "cell_type": "code",
   "execution_count": null,
   "metadata": {},
   "outputs": [],
   "source": [
    "FetchData(hpf20,'EBF1/2/3/4')"
   ]
  },
  {
   "cell_type": "markdown",
   "metadata": {},
   "source": [
    "We can overlay the expression of the EBF genes onto the tSNE plot by the `FeaturePlot` function.  This is presented in Fig. 1b."
   ]
  },
  {
   "cell_type": "code",
   "execution_count": null,
   "metadata": {},
   "outputs": [],
   "source": [
    "FeaturePlot(hpf20,features.plot = 'EBF1/2/3/4', pt.size = 2)"
   ]
  },
  {
   "cell_type": "markdown",
   "metadata": {},
   "source": [
    "**Exercise**: Draw this for the heart maker gene 'GATA4/5/6'."
   ]
  },
  {
   "cell_type": "code",
   "execution_count": null,
   "metadata": {},
   "outputs": [],
   "source": []
  },
  {
   "cell_type": "markdown",
   "metadata": {},
   "source": [
    "`FeaturePlot` can also take a vector of genes to draw all of them in multiple panels.  Recall the *ASM* variable is a vector of (a subset of) ASM makers."
   ]
  },
  {
   "cell_type": "code",
   "execution_count": null,
   "metadata": {},
   "outputs": [],
   "source": [
    "FeaturePlot(hpf20,features.plot = ASM,pt.size = 1.5)"
   ]
  },
  {
   "cell_type": "markdown",
   "metadata": {},
   "source": [
    "What do the plots look like if you overlay the heart maker expression?"
   ]
  },
  {
   "cell_type": "code",
   "execution_count": null,
   "metadata": {},
   "outputs": [],
   "source": [
    "FeaturePlot(hpf20,features.plot = Heart,pt.size = 1.5)"
   ]
  },
  {
   "cell_type": "markdown",
   "metadata": {},
   "source": [
    "Violin plots show the distribution of the markers in each cell type.  We first increase the size of the plot so each panel is visible (default is 7 by 7)."
   ]
  },
  {
   "cell_type": "code",
   "execution_count": null,
   "metadata": {},
   "outputs": [],
   "source": [
    "options(repr.plot.width = 14, repr.plot.height = 10)\n",
    "VlnPlot(hpf20, Heart)"
   ]
  },
  {
   "cell_type": "markdown",
   "metadata": {},
   "source": [
    "We can show the expression of all the markers across all the cell types in a heatmap.  Note we use all the marker genes stored in the *AllGene* variable.  This is already quite similar to the heatmap in Fig. 1c. We just need to change the color mapping and change the row/column orders."
   ]
  },
  {
   "cell_type": "code",
   "execution_count": null,
   "metadata": {},
   "outputs": [],
   "source": [
    "DoHeatmap(hpf20,genes.use=AllGene, order.by.ident = TRUE,slim.col.label = TRUE, draw.line = TRUE,mar=c(8,8))"
   ]
  },
  {
   "cell_type": "markdown",
   "metadata": {},
   "source": [
    "The code below uses more options in the `DoHeatmap` function, getting pretty close to the one presented in Fig. 1c."
   ]
  },
  {
   "cell_type": "code",
   "execution_count": null,
   "metadata": {},
   "outputs": [],
   "source": [
    "DoHeatmap(hpf20,genes.use = AllGene,order.by.ident = T,\n",
    "          slim.col.label = T,draw.line = T,key.title = \"Expression Level Scale\",\n",
    "          key.xlab = \"\", key.ylab = \"\",\n",
    "          RowSideColors = c(rep(\"pink\",15),rep(\"red\",15),rep(\"orange\",4),rep(\"blue\",15)), \n",
    "          mar=c(8,8),col=col,sepcolor=\"black\",sepwidth = c(1,0.2),\n",
    "          srtCol=0,cex.col = 1,cexRow=1,keysize=1,density.info=c(\"none\"))"
   ]
  },
  {
   "cell_type": "markdown",
   "metadata": {},
   "source": [
    "### Single cell Ciona dataset - temporal dynamics"
   ]
  },
  {
   "cell_type": "markdown",
   "metadata": {},
   "source": [
    "The *asm.test*, *shp.test*, and *fhp.test* objects that we loaded previously contain pre-computed trajectories for the ASM, SHP and FHP clusters, respectively.  The *ps.asm*, *ps.shp* and *ps.fhp* objects contain the pre-computed regulatory state transition times for the correspoding trajectories.\n",
    "\n",
    "Here we plot the expression of the SHP marker 'DACH1/2' along the SHP pseudotime trajectory, mark the activation pseudotime (purple vertical line), and the transition between regulatory states. This reproduceds Fig. 2f middle panel.\n",
    "\n",
    "We first reset the figure size back to the original 7 by 7."
   ]
  },
  {
   "cell_type": "code",
   "execution_count": null,
   "metadata": {},
   "outputs": [],
   "source": [
    "options(repr.plot.width = 7, repr.plot.height = 7)\n",
    "genePlot.pseudo(fhp.test,gene='GATA4/5/6',\n",
    "                col.use = c(\"green\",\"pink1\",\"red1\",\"red4\"),\n",
    "                do.spline = T,\n",
    "                name.x = \"FHP Trajectory\",\n",
    "                cex.use = 0.8,cex.lab=1,do.logit = T)\n",
    "abline(v=ps.fhp,lwd=2,lty=2)"
   ]
  },
  {
   "cell_type": "markdown",
   "metadata": {},
   "source": [
    "We can also plot all the FHP marker genes."
   ]
  },
  {
   "cell_type": "code",
   "execution_count": null,
   "metadata": {},
   "outputs": [],
   "source": [
    "genes.plot.pseudo(fhp.test,genes.use = FHP_Specific, lwd=1.5, name.x = \"FHP\")"
   ]
  },
  {
   "cell_type": "markdown",
   "metadata": {},
   "source": [
    "## Breakout Room Exercises\n",
    "\n",
    "1. Show the expression of FHP marker 'MMP21' and SHP marker 'DACH1/2' the tSNE plot.  Then reproduce the violin plots in Fig. 1d for 'MMP21' and 'DACH1/2'.  What are the pro's and con's of each representation?\n",
    "\n",
    "\n",
    "2. How is the ASM marker 'EBF1/2/3/4' expressed along the ASM pseudotime trajectory (i.e., reproduce the EBF panel in Fig. 3a)?  Along the FHP trajectory?\n",
    "  * The colors use in that figure is `c(\"green\",\"yellow\",\"lightblue\",\"blue1\",\"blue4\")`.\n",
    "\n",
    "\n",
    "3. Create a heatmap of the ASM trajectory, i.e., using the `DoHeatmap` function with the *asm.test* object and *ASM* gene list, and compare to the heatmap in Fig. 3b."
   ]
  },
  {
   "cell_type": "code",
   "execution_count": null,
   "metadata": {},
   "outputs": [],
   "source": []
  },
  {
   "cell_type": "code",
   "execution_count": null,
   "metadata": {},
   "outputs": [],
   "source": []
  },
  {
   "cell_type": "code",
   "execution_count": null,
   "metadata": {},
   "outputs": [],
   "source": []
  }
 ],
 "metadata": {
  "kernelspec": {
   "display_name": "R 3.5",
   "language": "R",
   "name": "ir35"
  },
  "language_info": {
   "codemirror_mode": "r",
   "file_extension": ".r",
   "mimetype": "text/x-r-source",
   "name": "R",
   "pygments_lexer": "r",
   "version": "3.5.1"
  }
 },
 "nbformat": 4,
 "nbformat_minor": 4
}
